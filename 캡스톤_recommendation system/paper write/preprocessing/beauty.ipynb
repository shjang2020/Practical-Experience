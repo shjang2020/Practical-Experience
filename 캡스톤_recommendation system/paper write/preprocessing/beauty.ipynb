{
 "cells": [
  {
   "cell_type": "code",
   "execution_count": 1,
   "metadata": {},
   "outputs": [
    {
     "name": "stderr",
     "output_type": "stream",
     "text": [
      "C:\\Users\\JangSeongHyun\\anaconda3\\lib\\site-packages\\numpy\\_distributor_init.py:30: UserWarning: loaded more than 1 DLL from .libs:\n",
      "C:\\Users\\JangSeongHyun\\anaconda3\\lib\\site-packages\\numpy\\.libs\\libopenblas.EL2C6PLE4ZYW3ECEVIV3OXXGRN2NRFM2.gfortran-win_amd64.dll\n",
      "C:\\Users\\JangSeongHyun\\anaconda3\\lib\\site-packages\\numpy\\.libs\\libopenblas.PYQHXLVVQ7VESDPUVUADXEVJOBGHJPAY.gfortran-win_amd64.dll\n",
      "  warnings.warn(\"loaded more than 1 DLL from .libs:\"\n"
     ]
    }
   ],
   "source": [
    "import numpy as np # linear algebra\n",
    "import pandas as pd # data processing, CSV file I/O (e.g. pd.read_csv)\n",
    "import tensorflow as tf\n",
    "import random\n",
    "import os"
   ]
  },
  {
   "cell_type": "code",
   "execution_count": 2,
   "metadata": {},
   "outputs": [],
   "source": [
    "def seed_everything(seed: int = 42):\n",
    "    random.seed(seed)\n",
    "    np.random.seed(seed)\n",
    "    os.environ[\"PYTHONHASHSEED\"] = str(seed)\n",
    "    tf.random.set_seed(seed)\n",
    "    \n",
    "seed_everything(42)"
   ]
  },
  {
   "cell_type": "code",
   "execution_count": 6,
   "metadata": {},
   "outputs": [],
   "source": [
    "path = './beauty_3/'"
   ]
  },
  {
   "cell_type": "code",
   "execution_count": 7,
   "metadata": {
    "scrolled": true
   },
   "outputs": [
    {
     "data": {
      "text/html": [
       "<div>\n",
       "<style scoped>\n",
       "    .dataframe tbody tr th:only-of-type {\n",
       "        vertical-align: middle;\n",
       "    }\n",
       "\n",
       "    .dataframe tbody tr th {\n",
       "        vertical-align: top;\n",
       "    }\n",
       "\n",
       "    .dataframe thead th {\n",
       "        text-align: right;\n",
       "    }\n",
       "</style>\n",
       "<table border=\"1\" class=\"dataframe\">\n",
       "  <thead>\n",
       "    <tr style=\"text-align: right;\">\n",
       "      <th></th>\n",
       "      <th>UserId</th>\n",
       "      <th>ProductId</th>\n",
       "      <th>Rating</th>\n",
       "    </tr>\n",
       "  </thead>\n",
       "  <tbody>\n",
       "    <tr>\n",
       "      <th>0</th>\n",
       "      <td>A39HTATAQ9V7YF</td>\n",
       "      <td>0205616461</td>\n",
       "      <td>5.0</td>\n",
       "    </tr>\n",
       "    <tr>\n",
       "      <th>1</th>\n",
       "      <td>A3JM6GV9MNOF9X</td>\n",
       "      <td>0558925278</td>\n",
       "      <td>3.0</td>\n",
       "    </tr>\n",
       "    <tr>\n",
       "      <th>2</th>\n",
       "      <td>A1Z513UWSAAO0F</td>\n",
       "      <td>0558925278</td>\n",
       "      <td>5.0</td>\n",
       "    </tr>\n",
       "    <tr>\n",
       "      <th>3</th>\n",
       "      <td>A1WMRR494NWEWV</td>\n",
       "      <td>0733001998</td>\n",
       "      <td>4.0</td>\n",
       "    </tr>\n",
       "    <tr>\n",
       "      <th>4</th>\n",
       "      <td>A3IAAVS479H7M7</td>\n",
       "      <td>0737104473</td>\n",
       "      <td>1.0</td>\n",
       "    </tr>\n",
       "  </tbody>\n",
       "</table>\n",
       "</div>"
      ],
      "text/plain": [
       "           UserId   ProductId  Rating\n",
       "0  A39HTATAQ9V7YF  0205616461     5.0\n",
       "1  A3JM6GV9MNOF9X  0558925278     3.0\n",
       "2  A1Z513UWSAAO0F  0558925278     5.0\n",
       "3  A1WMRR494NWEWV  0733001998     4.0\n",
       "4  A3IAAVS479H7M7  0737104473     1.0"
      ]
     },
     "execution_count": 7,
     "metadata": {},
     "output_type": "execute_result"
    }
   ],
   "source": [
    "df = pd.read_csv(path+'ratings_Beauty.csv')\n",
    "df = df[['UserId', 'ProductId', 'Rating']]\n",
    "df.head()"
   ]
  },
  {
   "cell_type": "code",
   "execution_count": 8,
   "metadata": {},
   "outputs": [
    {
     "data": {
      "text/plain": [
       "(2023070, 3)"
      ]
     },
     "execution_count": 8,
     "metadata": {},
     "output_type": "execute_result"
    }
   ],
   "source": [
    "df.shape"
   ]
  },
  {
   "cell_type": "code",
   "execution_count": 9,
   "metadata": {},
   "outputs": [
    {
     "data": {
      "text/plain": [
       "249274"
      ]
     },
     "execution_count": 9,
     "metadata": {},
     "output_type": "execute_result"
    }
   ],
   "source": [
    "df.ProductId.nunique()"
   ]
  },
  {
   "cell_type": "markdown",
   "metadata": {},
   "source": [
    "## Preprocessing"
   ]
  },
  {
   "cell_type": "markdown",
   "metadata": {},
   "source": [
    "## Dataset 생성"
   ]
  },
  {
   "cell_type": "code",
   "execution_count": 6,
   "metadata": {},
   "outputs": [
    {
     "data": {
      "text/plain": [
       "1     887401\n",
       "2     175875\n",
       "3      64336\n",
       "4      30285\n",
       "5      16187\n",
       "6       9827\n",
       "7       6324\n",
       "8       4260\n",
       "9       3181\n",
       "10      2275\n",
       "11      1745\n",
       "12      1402\n",
       "13      1012\n",
       "14       912\n",
       "15       677\n",
       "16       550\n",
       "17       462\n",
       "18       411\n",
       "19       323\n",
       "20       277\n",
       "Name: count, dtype: int64"
      ]
     },
     "execution_count": 6,
     "metadata": {},
     "output_type": "execute_result"
    }
   ],
   "source": [
    "id_table = df['UserId'].value_counts().reset_index()\n",
    "id_table.columns = ['UserId', 'count']\n",
    "id_table['count'].value_counts().head(20)"
   ]
  },
  {
   "cell_type": "code",
   "execution_count": 10,
   "metadata": {},
   "outputs": [
    {
     "data": {
      "text/plain": [
       "(193008, 3)"
      ]
     },
     "execution_count": 10,
     "metadata": {},
     "output_type": "execute_result"
    }
   ],
   "source": [
    "id_list = id_table.query('count == 3')['UserId'].tolist() # 5/10 4/6 3/4\n",
    "data2 = df.query('UserId in @id_list')\n",
    "data2.shape"
   ]
  },
  {
   "cell_type": "code",
   "execution_count": 11,
   "metadata": {},
   "outputs": [
    {
     "data": {
      "text/plain": [
       "64336"
      ]
     },
     "execution_count": 11,
     "metadata": {},
     "output_type": "execute_result"
    }
   ],
   "source": [
    "len(id_list)"
   ]
  },
  {
   "cell_type": "code",
   "execution_count": 9,
   "metadata": {},
   "outputs": [],
   "source": [
    "for i in data2['UserId'].unique() : \n",
    "    in_lst = data2.loc[ data2['UserId'] == i ].index\n",
    "    if len(in_lst) > 3 : \n",
    "        ne_in = np.random.choice(in_lst, 3, replace=False)\n",
    "        de_in = list(set(in_lst) - set(ne_in))\n",
    "        data2 = data2.drop(de_in, axis=0).reset_index(drop=True)\n",
    "    else : \n",
    "        pass"
   ]
  },
  {
   "cell_type": "code",
   "execution_count": 12,
   "metadata": {},
   "outputs": [],
   "source": [
    "import random\n",
    "\n",
    "train_list = random.sample(id_list, 50000) # 30000 40000 50000\n",
    "id_list = set(id_list) - set(train_list)\n",
    "valid_list = random.sample(id_list, 7336) # 6054 8299 7336\n",
    "id_list = set(id_list) - set(valid_list)\n",
    "test_list = random.sample(id_list, 7000) # 6000 8000 7000"
   ]
  },
  {
   "cell_type": "code",
   "execution_count": 13,
   "metadata": {},
   "outputs": [
    {
     "data": {
      "text/plain": [
       "((150000, 3), (22008, 3), (21000, 3))"
      ]
     },
     "execution_count": 13,
     "metadata": {},
     "output_type": "execute_result"
    }
   ],
   "source": [
    "train = data2.query('UserId in @train_list').reset_index(drop=True)\n",
    "valid = data2.query('UserId in @valid_list').reset_index(drop=True)\n",
    "test = data2.query('UserId in @test_list').reset_index(drop=True)\n",
    "\n",
    "train.shape, valid.shape, test.shape"
   ]
  },
  {
   "cell_type": "code",
   "execution_count": 16,
   "metadata": {},
   "outputs": [],
   "source": [
    "train = train.sort_values(by='UserId')\n",
    "valid = valid.sort_values(by='UserId')\n",
    "test = test.sort_values(by='UserId')"
   ]
  },
  {
   "cell_type": "code",
   "execution_count": 17,
   "metadata": {},
   "outputs": [],
   "source": [
    "# x_train = pad_sequences(train['encoded'], maxlen=maxlen, padding='post')\n",
    "# x_valid = pad_sequences(valid['encoded'], maxlen=maxlen, padding='post')\n",
    "# x_test = pad_sequences(test['encoded'], maxlen=maxlen, padding='post')\n",
    "\n",
    "x_train = np.array(train['ProductId'])\n",
    "x_valid = np.array(valid['ProductId'])\n",
    "x_test = np.array(test['ProductId'])"
   ]
  },
  {
   "cell_type": "code",
   "execution_count": 18,
   "metadata": {},
   "outputs": [],
   "source": [
    "description_num = 3\n",
    "\n",
    "# Des_tr = x_train.reshape(25000, description_num, maxlen)\n",
    "# Des_val = x_valid.reshape(2636, description_num, maxlen) # 2715 2425 2636\n",
    "# Des_tst = x_test.reshape(2500, description_num, maxlen)\n",
    "\n",
    "maxlen = 1\n",
    "Des_tr = x_train.reshape(50000, description_num, maxlen)\n",
    "Des_val = x_valid.reshape(7336, description_num, maxlen)\n",
    "Des_tst = x_test.reshape(7000, description_num, maxlen)"
   ]
  },
  {
   "cell_type": "code",
   "execution_count": 19,
   "metadata": {},
   "outputs": [],
   "source": [
    "Des = []\n",
    "\n",
    "for i in range(Des_tr.shape[0]):\n",
    "    for j in range(3):\n",
    "        Des.append(Des_tr[i])\n",
    "        \n",
    "train_des = np.array(Des)"
   ]
  },
  {
   "cell_type": "code",
   "execution_count": 20,
   "metadata": {},
   "outputs": [],
   "source": [
    "Des = []\n",
    "\n",
    "for i in range(Des_val.shape[0]):\n",
    "    for j in range(3):\n",
    "        Des.append(Des_val[i])\n",
    "        \n",
    "valid_des = np.array(Des)"
   ]
  },
  {
   "cell_type": "code",
   "execution_count": 21,
   "metadata": {},
   "outputs": [],
   "source": [
    "Des = []\n",
    "\n",
    "for i in range(Des_tst.shape[0]):\n",
    "    for j in range(3):\n",
    "        Des.append(Des_tst[i])\n",
    "        \n",
    "test_des = np.array(Des)"
   ]
  },
  {
   "cell_type": "code",
   "execution_count": 22,
   "metadata": {},
   "outputs": [],
   "source": [
    "train_data = [train_des, x_train]\n",
    "valid_data = [valid_des, x_valid]\n",
    "test_data = [test_des, x_test]\n",
    "\n",
    "train_target = train[['Rating']].values\n",
    "valid_target = valid[['Rating']].values\n",
    "test_target = test[['Rating']].values"
   ]
  },
  {
   "cell_type": "code",
   "execution_count": 24,
   "metadata": {},
   "outputs": [],
   "source": [
    "import pickle\n",
    "\n",
    "with open(path+\"Amazon_beauty/beauty_3/train_id_data.pickle\",\"wb\") as fr:\n",
    "    pickle.dump(train_data, fr, protocol=4)\n",
    "    \n",
    "with open(path+\"Amazon_beauty/beauty_3/valid_id_data.pickle\",\"wb\") as fr:\n",
    "    pickle.dump(valid_data, fr, protocol=4)\n",
    "    \n",
    "with open(path+\"Amazon_beauty/beauty_3/test_id_data.pickle\",\"wb\") as fr:\n",
    "    pickle.dump(test_data, fr, protocol=4)    "
   ]
  },
  {
   "cell_type": "code",
   "execution_count": 25,
   "metadata": {},
   "outputs": [],
   "source": [
    "with open(path+\"Amazon_beauty/beauty_3/train_target.pickle\",\"wb\") as fr:\n",
    "    pickle.dump(train_target, fr, protocol=4)\n",
    "    \n",
    "with open(path+\"Amazon_beauty/beauty_3/valid_target.pickle\",\"wb\") as fr:\n",
    "    pickle.dump(valid_target, fr, protocol=4)\n",
    "    \n",
    "with open(path+\"Amazon_beauty/beauty_3/test_target.pickle\",\"wb\") as fr:\n",
    "    pickle.dump(test_target, fr, protocol=4)    "
   ]
  },
  {
   "cell_type": "markdown",
   "metadata": {},
   "source": [
    "## Model"
   ]
  },
  {
   "cell_type": "code",
   "execution_count": 39,
   "metadata": {},
   "outputs": [],
   "source": [
    "from keras.layers import Input, Embedding, LSTM, Dense, Lambda, Multiply\n",
    "from keras.layers.convolutional import Conv1D\n",
    "from keras.layers.pooling import MaxPool1D\n",
    "from keras.models import Model\n",
    "from keras.layers.wrappers import TimeDistributed\n",
    "import numpy as np\n",
    "import keras.backend as K\n",
    "from random import randint\n",
    "\n",
    "import os\n",
    "os.environ[\"CUDA_DEVICE_ORDER\"] = \"PCI_BUS_ID\"\n",
    "os.environ[\"CUDA_VISIBLE_DEVICES\"] = \"0\"\n",
    "description_num = 5\n",
    "# current_path ='data/'\n",
    "# local_path = 'data/'"
   ]
  },
  {
   "cell_type": "code",
   "execution_count": 40,
   "metadata": {},
   "outputs": [],
   "source": [
    "# set parameters:\n",
    "# V = 142381\n",
    "# V = 226928\n",
    "V = len(tokenizer.word_index)\n",
    "embedding_dim = 50\n",
    "max_len = maxlen\n",
    "filters_num = 64\n",
    "kernel_size = 3"
   ]
  },
  {
   "cell_type": "code",
   "execution_count": 43,
   "metadata": {},
   "outputs": [],
   "source": [
    "# description_input=Input(shape=(10,50))\n",
    "# description_validation=Input(shape=(50,))\n",
    "input_1 = Input(shape=(description_num, max_len))\n",
    "input_2 = Input(shape=(max_len,))\n",
    "embedding = Embedding(input_dim=V,\n",
    "                      output_dim=embedding_dim,\n",
    "                      input_length=max_len)\n",
    "conv1d = Conv1D(filters=filters_num,\n",
    "                kernel_size=kernel_size,\n",
    "                activation='relu')\n",
    "maxpool1d = MaxPool1D(maxlen-2)\n",
    "dense = Dense(15)\n",
    "\n",
    "# input_vector=TimeDistributed(embedding)(description_input)\n",
    "# validation_vector=embedding(description_validation)\n",
    "\n",
    "input_vector = TimeDistributed(embedding)(input_1)\n",
    "validation_vector = embedding(input_2)\n",
    "\n",
    "convolutional_vector = TimeDistributed(conv1d)(input_vector)\n",
    "validation_conv = conv1d(validation_vector)\n",
    "\n",
    "maxpooling_vector = TimeDistributed(maxpool1d)(convolutional_vector)\n",
    "validation_maxpooling = maxpool1d(validation_conv)\n",
    "\n",
    "middle_output = TimeDistributed(dense)(maxpooling_vector)\n",
    "middle_validation = dense(validation_maxpooling)"
   ]
  },
  {
   "cell_type": "code",
   "execution_count": 44,
   "metadata": {},
   "outputs": [
    {
     "name": "stdout",
     "output_type": "stream",
     "text": [
      "(None, 5, 1494, 50) (None, 1494, 50) (None, 5, 1492, 64) (None, 1492, 64) (None, 5, 1, 64) (None, 1, 64) (None, 5, 1, 15) (None, 1, 15)\n"
     ]
    }
   ],
   "source": [
    "print(input_vector.shape, validation_vector.shape,\n",
    "      convolutional_vector.shape, validation_conv.shape,\n",
    "      maxpooling_vector.shape, validation_maxpooling.shape,\n",
    "      middle_output.shape, middle_validation.shape)"
   ]
  },
  {
   "cell_type": "code",
   "execution_count": 45,
   "metadata": {},
   "outputs": [],
   "source": [
    "def change_dim_1(X):\n",
    "    return K.squeeze(X, 1)\n",
    "\n",
    "def change_dim_2(X):\n",
    "    return K.squeeze(X, 2)\n",
    "\n",
    "def repeat(X):\n",
    "    return K.repeat_elements(X, description_num, 1)\n",
    "\n",
    "def repeat1(X):\n",
    "    return K.repeat_elements(X, 15, 2)\n",
    "\n",
    "def repeat2(X):\n",
    "    return K.repeat_elements(X, description_num, 1)\n",
    "\n",
    "def dot(X, Y):\n",
    "    return K.dot(X, Y)\n",
    "\n",
    "def sum_item(X):\n",
    "    return K.sum(X, axis=2)\n",
    "\n",
    "def sqrt_item(X):\n",
    "    return K.sqrt(X)\n",
    "\n",
    "def cal_denominator(X):\n",
    "    return 1/(X)\n",
    "\n",
    "def expand_item(X):\n",
    "    return K.expand_dims(X, 2)\n",
    "\n",
    "def expand_rate(X):\n",
    "    return K.expand_dims(X, 1)\n",
    "\n",
    "def sum_user(X):\n",
    "    return K.sum(X, 1)\n",
    "\n",
    "def sum_rate(X):\n",
    "    return K.sum(X, 1)\n",
    "\n",
    "def single_exp(X):\n",
    "    return K.exp(X)\n",
    "\n",
    "def sum_exp_denominator(X):\n",
    "    return 1/(K.sum(K.exp(X), 1))"
   ]
  },
  {
   "cell_type": "code",
   "execution_count": 46,
   "metadata": {},
   "outputs": [],
   "source": [
    "# def _test_generator(filename):\n",
    "\n",
    "middle_output_final = Lambda(change_dim_2)(middle_output)#?*10*15\n",
    "middle_validation_final = Lambda(repeat)(middle_validation)#?*10*15\n",
    "molecule = Multiply()([middle_output_final, middle_validation_final])\n",
    "molecule = Lambda(sum_item)(molecule)\n",
    "\n",
    "denominator1 = Multiply()([middle_output_final, middle_output_final])\n",
    "denominator1 = Lambda(sum_item)(denominator1)\n",
    "denominator1 = Lambda(sqrt_item)(denominator1)\n",
    "\n",
    "denominator2 = Multiply()([middle_validation_final, middle_validation_final])\n",
    "denominator2 = Lambda(sum_item)(denominator2)\n",
    "denominator2 = Lambda(sqrt_item)(denominator2)\n",
    "\n",
    "\n",
    "denominator = Multiply()([denominator1, denominator2])\n",
    "denominator = Lambda(cal_denominator)(denominator)\n",
    "\n",
    "similarity = Multiply()([molecule, denominator])\n",
    "similarity = Lambda(expand_item)(similarity)\n",
    "similarity = Lambda(repeat1)(similarity)\n",
    "\n",
    "\n",
    "\n",
    "user = Multiply()([similarity, middle_output_final])\n",
    "user = Lambda(sum_user)(user)\n",
    "\n",
    "\n",
    "item = Lambda(change_dim_1)(middle_validation)\n",
    "\n",
    "\n",
    "rate_hat = Multiply()([user, item])\n",
    "rate_hat = Lambda(sum_rate)(rate_hat)\n",
    "rate_hat = Lambda(expand_rate)(rate_hat)"
   ]
  },
  {
   "cell_type": "code",
   "execution_count": 47,
   "metadata": {},
   "outputs": [],
   "source": [
    "model = Model(inputs=[input_1, input_2], outputs=rate_hat)\n",
    "model.compile(optimizer='adam', loss='mse', metrics=['mse'])"
   ]
  },
  {
   "cell_type": "code",
   "execution_count": 48,
   "metadata": {},
   "outputs": [
    {
     "name": "stdout",
     "output_type": "stream",
     "text": [
      "Model: \"model\"\n",
      "__________________________________________________________________________________________________\n",
      " Layer (type)                   Output Shape         Param #     Connected to                     \n",
      "==================================================================================================\n",
      " input_3 (InputLayer)           [(None, 5, 1494)]    0           []                               \n",
      "                                                                                                  \n",
      " input_4 (InputLayer)           [(None, 1494)]       0           []                               \n",
      "                                                                                                  \n",
      " time_distributed_4 (TimeDistri  (None, 5, 1494, 50)  1669250    ['input_3[0][0]']                \n",
      " buted)                                                                                           \n",
      "                                                                                                  \n",
      " embedding_1 (Embedding)        (None, 1494, 50)     1669250     ['input_4[0][0]']                \n",
      "                                                                                                  \n",
      " time_distributed_5 (TimeDistri  (None, 5, 1492, 64)  9664       ['time_distributed_4[0][0]']     \n",
      " buted)                                                                                           \n",
      "                                                                                                  \n",
      " conv1d_1 (Conv1D)              (None, 1492, 64)     9664        ['embedding_1[0][0]']            \n",
      "                                                                                                  \n",
      " time_distributed_6 (TimeDistri  (None, 5, 1, 64)    0           ['time_distributed_5[0][0]']     \n",
      " buted)                                                                                           \n",
      "                                                                                                  \n",
      " max_pooling1d_1 (MaxPooling1D)  (None, 1, 64)       0           ['conv1d_1[0][0]']               \n",
      "                                                                                                  \n",
      " time_distributed_7 (TimeDistri  (None, 5, 1, 15)    975         ['time_distributed_6[0][0]']     \n",
      " buted)                                                                                           \n",
      "                                                                                                  \n",
      " dense_1 (Dense)                (None, 1, 15)        975         ['max_pooling1d_1[0][0]']        \n",
      "                                                                                                  \n",
      " lambda (Lambda)                (None, 5, 15)        0           ['time_distributed_7[0][0]']     \n",
      "                                                                                                  \n",
      " lambda_1 (Lambda)              (None, 5, 15)        0           ['dense_1[0][0]']                \n",
      "                                                                                                  \n",
      " multiply_1 (Multiply)          (None, 5, 15)        0           ['lambda[0][0]',                 \n",
      "                                                                  'lambda[0][0]']                 \n",
      "                                                                                                  \n",
      " multiply_2 (Multiply)          (None, 5, 15)        0           ['lambda_1[0][0]',               \n",
      "                                                                  'lambda_1[0][0]']               \n",
      "                                                                                                  \n",
      " lambda_3 (Lambda)              (None, 5)            0           ['multiply_1[0][0]']             \n",
      "                                                                                                  \n",
      " lambda_5 (Lambda)              (None, 5)            0           ['multiply_2[0][0]']             \n",
      "                                                                                                  \n",
      " lambda_4 (Lambda)              (None, 5)            0           ['lambda_3[0][0]']               \n",
      "                                                                                                  \n",
      " lambda_6 (Lambda)              (None, 5)            0           ['lambda_5[0][0]']               \n",
      "                                                                                                  \n",
      " multiply (Multiply)            (None, 5, 15)        0           ['lambda[0][0]',                 \n",
      "                                                                  'lambda_1[0][0]']               \n",
      "                                                                                                  \n",
      " multiply_3 (Multiply)          (None, 5)            0           ['lambda_4[0][0]',               \n",
      "                                                                  'lambda_6[0][0]']               \n",
      "                                                                                                  \n",
      " lambda_2 (Lambda)              (None, 5)            0           ['multiply[0][0]']               \n",
      "                                                                                                  \n",
      " lambda_7 (Lambda)              (None, 5)            0           ['multiply_3[0][0]']             \n",
      "                                                                                                  \n",
      " multiply_4 (Multiply)          (None, 5)            0           ['lambda_2[0][0]',               \n",
      "                                                                  'lambda_7[0][0]']               \n",
      "                                                                                                  \n",
      " lambda_8 (Lambda)              (None, 5, 1)         0           ['multiply_4[0][0]']             \n",
      "                                                                                                  \n",
      " lambda_9 (Lambda)              (None, 5, 15)        0           ['lambda_8[0][0]']               \n",
      "                                                                                                  \n",
      " multiply_5 (Multiply)          (None, 5, 15)        0           ['lambda_9[0][0]',               \n",
      "                                                                  'lambda[0][0]']                 \n",
      "                                                                                                  \n",
      " lambda_10 (Lambda)             (None, 15)           0           ['multiply_5[0][0]']             \n",
      "                                                                                                  \n",
      " lambda_11 (Lambda)             (None, 15)           0           ['dense_1[0][0]']                \n",
      "                                                                                                  \n",
      " multiply_6 (Multiply)          (None, 15)           0           ['lambda_10[0][0]',              \n",
      "                                                                  'lambda_11[0][0]']              \n",
      "                                                                                                  \n",
      " lambda_12 (Lambda)             (None,)              0           ['multiply_6[0][0]']             \n",
      "                                                                                                  \n",
      " lambda_13 (Lambda)             (None, 1)            0           ['lambda_12[0][0]']              \n",
      "                                                                                                  \n",
      "==================================================================================================\n",
      "Total params: 1,679,889\n",
      "Trainable params: 1,679,889\n",
      "Non-trainable params: 0\n",
      "__________________________________________________________________________________________________\n"
     ]
    }
   ],
   "source": [
    "model.summary()"
   ]
  },
  {
   "cell_type": "code",
   "execution_count": 49,
   "metadata": {},
   "outputs": [
    {
     "name": "stdout",
     "output_type": "stream",
     "text": [
      "Epoch 1/3\n"
     ]
    },
    {
     "ename": "",
     "evalue": "",
     "output_type": "error",
     "traceback": [
      "\u001b[1;31mCanceled future for execute_request message before replies were done"
     ]
    },
    {
     "ename": "",
     "evalue": "",
     "output_type": "error",
     "traceback": [
      "\u001b[1;31mThe Kernel crashed while executing code in the the current cell or a previous cell. Please review the code in the cell(s) to identify a possible cause of the failure. Click <a href='https://aka.ms/vscodeJupyterKernelCrash'>here</a> for more info. View Jupyter <a href='command:jupyter.viewOutput'>log</a> for further details."
     ]
    }
   ],
   "source": [
    "hist = model.fit(train_data, train_target,\n",
    "                 validation_data=(valid_data, valid_target),\n",
    "                 steps_per_epoch=256,\n",
    "                 validation_steps=256,\n",
    "                 epochs=3,\n",
    "                 verbose=10)"
   ]
  },
  {
   "cell_type": "code",
   "execution_count": null,
   "metadata": {},
   "outputs": [],
   "source": [
    "# scores = model.evaluate_generator(_evaluate_generator('train_whole_list_5s.txt','test_whole_list_5s.txt'),steps=134103)\n",
    "# scores = model.evaluate_generator(_evaluate_generator('train_whole_list_10.txt','test_whole_list_10.txt'),steps=34266)\n",
    "# scores = model.evaluate_generator(_evaluate_generator('train_whole_list_6s.txt','test_whole_list_6s.txt'),steps=134103)\n",
    "test_number = test.shape[0]\n",
    "scores = model.evaluate(test_data, test_target)\n",
    "print(scores)"
   ]
  },
  {
   "cell_type": "code",
   "execution_count": null,
   "metadata": {},
   "outputs": [],
   "source": []
  },
  {
   "cell_type": "code",
   "execution_count": null,
   "metadata": {},
   "outputs": [],
   "source": []
  },
  {
   "cell_type": "code",
   "execution_count": null,
   "metadata": {},
   "outputs": [],
   "source": []
  },
  {
   "cell_type": "code",
   "execution_count": null,
   "metadata": {},
   "outputs": [],
   "source": []
  },
  {
   "cell_type": "code",
   "execution_count": null,
   "metadata": {},
   "outputs": [],
   "source": []
  }
 ],
 "metadata": {
  "interpreter": {
   "hash": "88632544536f896c8f35d918b5e3583a50162ec118335e005391c3e813c5eb36"
  },
  "kernelspec": {
   "display_name": "Python 3",
   "language": "python",
   "name": "python3"
  },
  "language_info": {
   "codemirror_mode": {
    "name": "ipython",
    "version": 3
   },
   "file_extension": ".py",
   "mimetype": "text/x-python",
   "name": "python",
   "nbconvert_exporter": "python",
   "pygments_lexer": "ipython3",
   "version": "3.8.5"
  },
  "varInspector": {
   "cols": {
    "lenName": 16,
    "lenType": 16,
    "lenVar": 40
   },
   "kernels_config": {
    "python": {
     "delete_cmd_postfix": "",
     "delete_cmd_prefix": "del ",
     "library": "var_list.py",
     "varRefreshCmd": "print(var_dic_list())"
    },
    "r": {
     "delete_cmd_postfix": ") ",
     "delete_cmd_prefix": "rm(",
     "library": "var_list.r",
     "varRefreshCmd": "cat(var_dic_list()) "
    }
   },
   "types_to_exclude": [
    "module",
    "function",
    "builtin_function_or_method",
    "instance",
    "_Feature"
   ],
   "window_display": false
  }
 },
 "nbformat": 4,
 "nbformat_minor": 5
}
